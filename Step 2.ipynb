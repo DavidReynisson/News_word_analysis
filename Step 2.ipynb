{
 "cells": [
  {
   "cell_type": "markdown",
   "id": "947b99f8",
   "metadata": {},
   "source": [
    "# Step 2: Clean the Data"
   ]
  },
  {
   "cell_type": "markdown",
   "id": "44fa0994",
   "metadata": {},
   "source": [
    "**Project Description**: This project aims to analyze which words in news headlines generate the most engagement. Headlines are from the r/news subreddit. "
   ]
  },
  {
   "cell_type": "code",
   "execution_count": 1,
   "id": "f2af09ae",
   "metadata": {},
   "outputs": [],
   "source": [
    "import pandas as pd\n",
    "import re"
   ]
  },
  {
   "cell_type": "code",
   "execution_count": 2,
   "id": "8d0eb0d9",
   "metadata": {},
   "outputs": [
    {
     "data": {
      "text/html": [
       "<div>\n",
       "<style scoped>\n",
       "    .dataframe tbody tr th:only-of-type {\n",
       "        vertical-align: middle;\n",
       "    }\n",
       "\n",
       "    .dataframe tbody tr th {\n",
       "        vertical-align: top;\n",
       "    }\n",
       "\n",
       "    .dataframe thead th {\n",
       "        text-align: right;\n",
       "    }\n",
       "</style>\n",
       "<table border=\"1\" class=\"dataframe\">\n",
       "  <thead>\n",
       "    <tr style=\"text-align: right;\">\n",
       "      <th></th>\n",
       "      <th>Title</th>\n",
       "      <th>Upvote_ratio</th>\n",
       "      <th>Upvotes</th>\n",
       "      <th>Comments</th>\n",
       "    </tr>\n",
       "  </thead>\n",
       "  <tbody>\n",
       "    <tr>\n",
       "      <th>0</th>\n",
       "      <td>Cash-strapped Britons give up pets as living c...</td>\n",
       "      <td>0.83</td>\n",
       "      <td>4.0</td>\n",
       "      <td>0.0</td>\n",
       "    </tr>\n",
       "    <tr>\n",
       "      <th>1</th>\n",
       "      <td>Anne Heche ‘peacefully taken off life support’...</td>\n",
       "      <td>0.92</td>\n",
       "      <td>11.0</td>\n",
       "      <td>0.0</td>\n",
       "    </tr>\n",
       "    <tr>\n",
       "      <th>2</th>\n",
       "      <td>Billionaires are funding a massive mineral dep...</td>\n",
       "      <td>0.87</td>\n",
       "      <td>11.0</td>\n",
       "      <td>6.0</td>\n",
       "    </tr>\n",
       "    <tr>\n",
       "      <th>3</th>\n",
       "      <td>China new bank loans tumble more than expected...</td>\n",
       "      <td>0.82</td>\n",
       "      <td>14.0</td>\n",
       "      <td>1.0</td>\n",
       "    </tr>\n",
       "    <tr>\n",
       "      <th>4</th>\n",
       "      <td>Risks of disaster at nuclear plant ‘increasing...</td>\n",
       "      <td>0.86</td>\n",
       "      <td>20.0</td>\n",
       "      <td>3.0</td>\n",
       "    </tr>\n",
       "    <tr>\n",
       "      <th>...</th>\n",
       "      <td>...</td>\n",
       "      <td>...</td>\n",
       "      <td>...</td>\n",
       "      <td>...</td>\n",
       "    </tr>\n",
       "    <tr>\n",
       "      <th>10095</th>\n",
       "      <td>Anne Heche “Not Expected To Survive” After Sev...</td>\n",
       "      <td>0.94</td>\n",
       "      <td>5474.0</td>\n",
       "      <td>1416.0</td>\n",
       "    </tr>\n",
       "    <tr>\n",
       "      <th>10096</th>\n",
       "      <td>Over 900,000 Brazilians sign letter in defense...</td>\n",
       "      <td>0.96</td>\n",
       "      <td>1330.0</td>\n",
       "      <td>53.0</td>\n",
       "    </tr>\n",
       "    <tr>\n",
       "      <th>10097</th>\n",
       "      <td>2 detained after Brentwood 24 Hour Fitness sho...</td>\n",
       "      <td>0.89</td>\n",
       "      <td>200.0</td>\n",
       "      <td>32.0</td>\n",
       "    </tr>\n",
       "    <tr>\n",
       "      <th>10098</th>\n",
       "      <td>FBI searched Trump’s home to look for nuclear ...</td>\n",
       "      <td>0.91</td>\n",
       "      <td>39124.0</td>\n",
       "      <td>5365.0</td>\n",
       "    </tr>\n",
       "    <tr>\n",
       "      <th>10099</th>\n",
       "      <td>Lebanon man hailed hero for holding Beirut ban...</td>\n",
       "      <td>0.93</td>\n",
       "      <td>325.0</td>\n",
       "      <td>10.0</td>\n",
       "    </tr>\n",
       "  </tbody>\n",
       "</table>\n",
       "<p>10100 rows × 4 columns</p>\n",
       "</div>"
      ],
      "text/plain": [
       "                                                   Title  Upvote_ratio  \\\n",
       "0      Cash-strapped Britons give up pets as living c...          0.83   \n",
       "1      Anne Heche ‘peacefully taken off life support’...          0.92   \n",
       "2      Billionaires are funding a massive mineral dep...          0.87   \n",
       "3      China new bank loans tumble more than expected...          0.82   \n",
       "4      Risks of disaster at nuclear plant ‘increasing...          0.86   \n",
       "...                                                  ...           ...   \n",
       "10095  Anne Heche “Not Expected To Survive” After Sev...          0.94   \n",
       "10096  Over 900,000 Brazilians sign letter in defense...          0.96   \n",
       "10097  2 detained after Brentwood 24 Hour Fitness sho...          0.89   \n",
       "10098  FBI searched Trump’s home to look for nuclear ...          0.91   \n",
       "10099  Lebanon man hailed hero for holding Beirut ban...          0.93   \n",
       "\n",
       "       Upvotes  Comments  \n",
       "0          4.0       0.0  \n",
       "1         11.0       0.0  \n",
       "2         11.0       6.0  \n",
       "3         14.0       1.0  \n",
       "4         20.0       3.0  \n",
       "...        ...       ...  \n",
       "10095   5474.0    1416.0  \n",
       "10096   1330.0      53.0  \n",
       "10097    200.0      32.0  \n",
       "10098  39124.0    5365.0  \n",
       "10099    325.0      10.0  \n",
       "\n",
       "[10100 rows x 4 columns]"
      ]
     },
     "execution_count": 2,
     "metadata": {},
     "output_type": "execute_result"
    }
   ],
   "source": [
    "titles = pd.read_csv('Titles.csv').drop(['Unnamed: 0'], axis=1) # read from csv and drop extra index column\n",
    "titles"
   ]
  },
  {
   "cell_type": "markdown",
   "id": "099f03dc",
   "metadata": {},
   "source": [
    "### 4 steps for cleaning the code:\n",
    "1. Drop first 100 observations to remove news that haven't been around for long enough\n",
    "2. Get rid of special characters"
   ]
  },
  {
   "cell_type": "code",
   "execution_count": null,
   "id": "d6cd80ec",
   "metadata": {},
   "outputs": [],
   "source": []
  },
  {
   "cell_type": "code",
   "execution_count": 3,
   "id": "983e57c2",
   "metadata": {},
   "outputs": [
    {
     "data": {
      "text/plain": [
       "'Beaverton Police Nab $22 Million Catalytic Converter Trafficking Ring'"
      ]
     },
     "execution_count": 3,
     "metadata": {},
     "output_type": "execute_result"
    }
   ],
   "source": [
    "heading = titles['Title'][49] # example of title with numbers and special character\n",
    "heading"
   ]
  }
 ],
 "metadata": {
  "kernelspec": {
   "display_name": "Python 3 (ipykernel)",
   "language": "python",
   "name": "python3"
  },
  "language_info": {
   "codemirror_mode": {
    "name": "ipython",
    "version": 3
   },
   "file_extension": ".py",
   "mimetype": "text/x-python",
   "name": "python",
   "nbconvert_exporter": "python",
   "pygments_lexer": "ipython3",
   "version": "3.9.7"
  }
 },
 "nbformat": 4,
 "nbformat_minor": 5
}
