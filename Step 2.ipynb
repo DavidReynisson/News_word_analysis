{
 "cells": [
  {
   "cell_type": "markdown",
   "id": "48b05b6a",
   "metadata": {},
   "source": [
    "# Step 2: Sentiment Analysis"
   ]
  },
  {
   "cell_type": "code",
   "execution_count": 1,
   "id": "d2d73de9",
   "metadata": {},
   "outputs": [
    {
     "name": "stderr",
     "output_type": "stream",
     "text": [
      "[nltk_data] Downloading package vader_lexicon to\n",
      "[nltk_data]     C:\\Users\\reyni\\AppData\\Roaming\\nltk_data...\n"
     ]
    },
    {
     "ename": "NameError",
     "evalue": "name 'df' is not defined",
     "output_type": "error",
     "traceback": [
      "\u001b[1;31m---------------------------------------------------------------------------\u001b[0m",
      "\u001b[1;31mNameError\u001b[0m                                 Traceback (most recent call last)",
      "\u001b[1;32m~\\AppData\\Local\\Temp/ipykernel_20860/2443332257.py\u001b[0m in \u001b[0;36m<module>\u001b[1;34m\u001b[0m\n\u001b[0;32m      6\u001b[0m \u001b[1;33m\u001b[0m\u001b[0m\n\u001b[0;32m      7\u001b[0m \u001b[0manalyser\u001b[0m \u001b[1;33m=\u001b[0m \u001b[0mSentimentIntensityAnalyzer\u001b[0m\u001b[1;33m(\u001b[0m\u001b[1;33m)\u001b[0m\u001b[1;33m\u001b[0m\u001b[1;33m\u001b[0m\u001b[0m\n\u001b[1;32m----> 8\u001b[1;33m \u001b[0mreview_sample\u001b[0m\u001b[1;33m=\u001b[0m\u001b[0mdf\u001b[0m\u001b[1;33m.\u001b[0m\u001b[0mloc\u001b[0m\u001b[1;33m[\u001b[0m\u001b[1;33m[\u001b[0m\u001b[1;36m0\u001b[0m\u001b[1;33m,\u001b[0m\u001b[1;36m1000\u001b[0m\u001b[1;33m,\u001b[0m\u001b[1;36m49000\u001b[0m\u001b[1;33m]\u001b[0m\u001b[1;33m]\u001b[0m \u001b[1;31m#Choose some reviews from the cleaned dataset\u001b[0m\u001b[1;33m\u001b[0m\u001b[1;33m\u001b[0m\u001b[0m\n\u001b[0m\u001b[0;32m      9\u001b[0m \u001b[1;32mfor\u001b[0m \u001b[0mi\u001b[0m\u001b[1;33m,\u001b[0m \u001b[0mrow\u001b[0m \u001b[1;32min\u001b[0m \u001b[0mreview_sample\u001b[0m\u001b[1;33m.\u001b[0m\u001b[0miterrows\u001b[0m\u001b[1;33m(\u001b[0m\u001b[1;33m)\u001b[0m\u001b[1;33m:\u001b[0m \u001b[1;31m#Print the review, actual sentiment, and polarity score\u001b[0m\u001b[1;33m\u001b[0m\u001b[1;33m\u001b[0m\u001b[0m\n\u001b[0;32m     10\u001b[0m   \u001b[0mprint\u001b[0m\u001b[1;33m(\u001b[0m\u001b[1;34m\"REVIEW: \"\u001b[0m\u001b[1;33m,\u001b[0m \u001b[0mrow\u001b[0m\u001b[1;33m.\u001b[0m\u001b[0mreview\u001b[0m\u001b[1;33m)\u001b[0m\u001b[1;33m\u001b[0m\u001b[1;33m\u001b[0m\u001b[0m\n",
      "\u001b[1;31mNameError\u001b[0m: name 'df' is not defined"
     ]
    }
   ],
   "source": [
    "import pandas as pd\n",
    "\n",
    "import nltk\n",
    "from nltk.sentiment.vader import SentimentIntensityAnalyzer\n",
    "nltk.download('vader_lexicon')"
   ]
  },
  {
   "cell_type": "code",
   "execution_count": 3,
   "id": "b7cc4f39",
   "metadata": {},
   "outputs": [
    {
     "data": {
      "text/html": [
       "<div>\n",
       "<style scoped>\n",
       "    .dataframe tbody tr th:only-of-type {\n",
       "        vertical-align: middle;\n",
       "    }\n",
       "\n",
       "    .dataframe tbody tr th {\n",
       "        vertical-align: top;\n",
       "    }\n",
       "\n",
       "    .dataframe thead th {\n",
       "        text-align: right;\n",
       "    }\n",
       "</style>\n",
       "<table border=\"1\" class=\"dataframe\">\n",
       "  <thead>\n",
       "    <tr style=\"text-align: right;\">\n",
       "      <th></th>\n",
       "      <th>title</th>\n",
       "      <th>score</th>\n",
       "      <th>num_comments</th>\n",
       "      <th>date</th>\n",
       "    </tr>\n",
       "  </thead>\n",
       "  <tbody>\n",
       "    <tr>\n",
       "      <th>0</th>\n",
       "      <td>U-Haul to Implement Nicotine-Free Hiring Polic...</td>\n",
       "      <td>134</td>\n",
       "      <td>518</td>\n",
       "      <td>2020-01-02 18:01:47+00:00</td>\n",
       "    </tr>\n",
       "    <tr>\n",
       "      <th>1</th>\n",
       "      <td>FDA issues ban on some flavored vaping products</td>\n",
       "      <td>28</td>\n",
       "      <td>43</td>\n",
       "      <td>2020-01-02 18:29:42+00:00</td>\n",
       "    </tr>\n",
       "    <tr>\n",
       "      <th>2</th>\n",
       "      <td>Family kicked off plane because daughter threw...</td>\n",
       "      <td>30</td>\n",
       "      <td>114</td>\n",
       "      <td>2020-01-02 18:54:03+00:00</td>\n",
       "    </tr>\n",
       "    <tr>\n",
       "      <th>3</th>\n",
       "      <td>Kansas police apologize for faked story of exp...</td>\n",
       "      <td>745</td>\n",
       "      <td>298</td>\n",
       "      <td>2020-01-02 19:02:08+00:00</td>\n",
       "    </tr>\n",
       "    <tr>\n",
       "      <th>4</th>\n",
       "      <td>Lebanese lawyers want Ghosn prosecuted over Is...</td>\n",
       "      <td>2</td>\n",
       "      <td>2</td>\n",
       "      <td>2020-01-02 19:03:04+00:00</td>\n",
       "    </tr>\n",
       "    <tr>\n",
       "      <th>...</th>\n",
       "      <td>...</td>\n",
       "      <td>...</td>\n",
       "      <td>...</td>\n",
       "      <td>...</td>\n",
       "    </tr>\n",
       "    <tr>\n",
       "      <th>9366</th>\n",
       "      <td>Louisville police move to fire officers in Bre...</td>\n",
       "      <td>2</td>\n",
       "      <td>1</td>\n",
       "      <td>2020-12-30 05:44:28+00:00</td>\n",
       "    </tr>\n",
       "    <tr>\n",
       "      <th>9367</th>\n",
       "      <td>A Black jazz musician's son was falsely accuse...</td>\n",
       "      <td>2</td>\n",
       "      <td>39</td>\n",
       "      <td>2020-12-30 17:44:14+00:00</td>\n",
       "    </tr>\n",
       "    <tr>\n",
       "      <th>9368</th>\n",
       "      <td>Apple and TikTok remove app used to arrange pa...</td>\n",
       "      <td>2</td>\n",
       "      <td>28</td>\n",
       "      <td>2020-12-30 19:32:36+00:00</td>\n",
       "    </tr>\n",
       "    <tr>\n",
       "      <th>9369</th>\n",
       "      <td>Most prolific serial killer in US history dies...</td>\n",
       "      <td>2</td>\n",
       "      <td>4</td>\n",
       "      <td>2020-12-31 01:35:25+00:00</td>\n",
       "    </tr>\n",
       "    <tr>\n",
       "      <th>9370</th>\n",
       "      <td>145 employees infected in COVID outbreak at Ya...</td>\n",
       "      <td>2</td>\n",
       "      <td>550</td>\n",
       "      <td>2020-12-31 02:31:51+00:00</td>\n",
       "    </tr>\n",
       "  </tbody>\n",
       "</table>\n",
       "<p>9371 rows × 4 columns</p>\n",
       "</div>"
      ],
      "text/plain": [
       "                                                  title  score  num_comments  \\\n",
       "0     U-Haul to Implement Nicotine-Free Hiring Polic...    134           518   \n",
       "1       FDA issues ban on some flavored vaping products     28            43   \n",
       "2     Family kicked off plane because daughter threw...     30           114   \n",
       "3     Kansas police apologize for faked story of exp...    745           298   \n",
       "4     Lebanese lawyers want Ghosn prosecuted over Is...      2             2   \n",
       "...                                                 ...    ...           ...   \n",
       "9366  Louisville police move to fire officers in Bre...      2             1   \n",
       "9367  A Black jazz musician's son was falsely accuse...      2            39   \n",
       "9368  Apple and TikTok remove app used to arrange pa...      2            28   \n",
       "9369  Most prolific serial killer in US history dies...      2             4   \n",
       "9370  145 employees infected in COVID outbreak at Ya...      2           550   \n",
       "\n",
       "                           date  \n",
       "0     2020-01-02 18:01:47+00:00  \n",
       "1     2020-01-02 18:29:42+00:00  \n",
       "2     2020-01-02 18:54:03+00:00  \n",
       "3     2020-01-02 19:02:08+00:00  \n",
       "4     2020-01-02 19:03:04+00:00  \n",
       "...                         ...  \n",
       "9366  2020-12-30 05:44:28+00:00  \n",
       "9367  2020-12-30 17:44:14+00:00  \n",
       "9368  2020-12-30 19:32:36+00:00  \n",
       "9369  2020-12-31 01:35:25+00:00  \n",
       "9370  2020-12-31 02:31:51+00:00  \n",
       "\n",
       "[9371 rows x 4 columns]"
      ]
     },
     "execution_count": 3,
     "metadata": {},
     "output_type": "execute_result"
    }
   ],
   "source": [
    "titles = pd.read_csv('titles.csv').drop(['Unnamed: 0'], axis=1) # read from csv and drop extra index column\n",
    "titles"
   ]
  },
  {
   "cell_type": "code",
   "execution_count": null,
   "id": "9af4e1a2",
   "metadata": {},
   "outputs": [],
   "source": [
    "analyser = SentimentIntensityAnalyzer()\n",
    "review_sample=titles.loc[[0,1000,49000]] #Choose some reviews from the cleaned dataset\n",
    "for i, row in review_sample.iterrows(): #Print the review, actual sentiment, and polarity score\n",
    "  print(\"REVIEW: \", row.review)\n",
    "  print(\"Actual Sentiment: \", row.sentiment)\n",
    "  print('Predicted Sentiment polarity: ', analyser.polarity_scores(row.review)) #Get the VADER polarity score"
   ]
  }
 ],
 "metadata": {
  "kernelspec": {
   "display_name": "Python 3 (ipykernel)",
   "language": "python",
   "name": "python3"
  },
  "language_info": {
   "codemirror_mode": {
    "name": "ipython",
    "version": 3
   },
   "file_extension": ".py",
   "mimetype": "text/x-python",
   "name": "python",
   "nbconvert_exporter": "python",
   "pygments_lexer": "ipython3",
   "version": "3.9.7"
  }
 },
 "nbformat": 4,
 "nbformat_minor": 5
}
