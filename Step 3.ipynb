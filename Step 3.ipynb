{
 "cells": [
  {
   "cell_type": "markdown",
   "id": "947b99f8",
   "metadata": {},
   "source": [
    "# Step 2: Clean the Data"
   ]
  },
  {
   "cell_type": "markdown",
   "id": "44fa0994",
   "metadata": {},
   "source": [
    "**Project Description**: This project aims to analyze which words in news headlines generate the most engagement. Headlines are from the r/news subreddit. "
   ]
  },
  {
   "cell_type": "code",
   "execution_count": 23,
   "id": "f2af09ae",
   "metadata": {},
   "outputs": [
    {
     "name": "stderr",
     "output_type": "stream",
     "text": [
      "[nltk_data] Downloading package stopwords to\n",
      "[nltk_data]     C:\\Users\\reyni\\AppData\\Roaming\\nltk_data...\n",
      "[nltk_data]   Package stopwords is already up-to-date!\n",
      "[nltk_data] Downloading package omw-1.4 to\n",
      "[nltk_data]     C:\\Users\\reyni\\AppData\\Roaming\\nltk_data...\n",
      "[nltk_data]   Package omw-1.4 is already up-to-date!\n"
     ]
    }
   ],
   "source": [
    "import pandas as pd\n",
    "import re\n",
    "import nltk\n",
    "nltk.download('stopwords')\n",
    "from nltk.corpus import stopwords\n",
    "nltk.download('omw-1.4') #Download OpenMultilingualWordnet\n",
    "wnl = nltk.WordNetLemmatizer()"
   ]
  },
  {
   "cell_type": "markdown",
   "id": "12106c26",
   "metadata": {},
   "source": [
    "Before we can proceed with our analysis"
   ]
  },
  {
   "cell_type": "code",
   "execution_count": 24,
   "id": "8d0eb0d9",
   "metadata": {},
   "outputs": [
    {
     "data": {
      "text/html": [
       "<div>\n",
       "<style scoped>\n",
       "    .dataframe tbody tr th:only-of-type {\n",
       "        vertical-align: middle;\n",
       "    }\n",
       "\n",
       "    .dataframe tbody tr th {\n",
       "        vertical-align: top;\n",
       "    }\n",
       "\n",
       "    .dataframe thead th {\n",
       "        text-align: right;\n",
       "    }\n",
       "</style>\n",
       "<table border=\"1\" class=\"dataframe\">\n",
       "  <thead>\n",
       "    <tr style=\"text-align: right;\">\n",
       "      <th></th>\n",
       "      <th>title</th>\n",
       "      <th>score</th>\n",
       "      <th>num_comments</th>\n",
       "      <th>date</th>\n",
       "    </tr>\n",
       "  </thead>\n",
       "  <tbody>\n",
       "    <tr>\n",
       "      <th>0</th>\n",
       "      <td>U-Haul to Implement Nicotine-Free Hiring Polic...</td>\n",
       "      <td>134</td>\n",
       "      <td>518</td>\n",
       "      <td>2020-01-02 18:01:47+00:00</td>\n",
       "    </tr>\n",
       "    <tr>\n",
       "      <th>1</th>\n",
       "      <td>FDA issues ban on some flavored vaping products</td>\n",
       "      <td>28</td>\n",
       "      <td>43</td>\n",
       "      <td>2020-01-02 18:29:42+00:00</td>\n",
       "    </tr>\n",
       "    <tr>\n",
       "      <th>2</th>\n",
       "      <td>Family kicked off plane because daughter threw...</td>\n",
       "      <td>30</td>\n",
       "      <td>114</td>\n",
       "      <td>2020-01-02 18:54:03+00:00</td>\n",
       "    </tr>\n",
       "    <tr>\n",
       "      <th>3</th>\n",
       "      <td>Kansas police apologize for faked story of exp...</td>\n",
       "      <td>745</td>\n",
       "      <td>298</td>\n",
       "      <td>2020-01-02 19:02:08+00:00</td>\n",
       "    </tr>\n",
       "    <tr>\n",
       "      <th>4</th>\n",
       "      <td>Lebanese lawyers want Ghosn prosecuted over Is...</td>\n",
       "      <td>2</td>\n",
       "      <td>2</td>\n",
       "      <td>2020-01-02 19:03:04+00:00</td>\n",
       "    </tr>\n",
       "    <tr>\n",
       "      <th>...</th>\n",
       "      <td>...</td>\n",
       "      <td>...</td>\n",
       "      <td>...</td>\n",
       "      <td>...</td>\n",
       "    </tr>\n",
       "    <tr>\n",
       "      <th>9366</th>\n",
       "      <td>Louisville police move to fire officers in Bre...</td>\n",
       "      <td>2</td>\n",
       "      <td>1</td>\n",
       "      <td>2020-12-30 05:44:28+00:00</td>\n",
       "    </tr>\n",
       "    <tr>\n",
       "      <th>9367</th>\n",
       "      <td>A Black jazz musician's son was falsely accuse...</td>\n",
       "      <td>2</td>\n",
       "      <td>39</td>\n",
       "      <td>2020-12-30 17:44:14+00:00</td>\n",
       "    </tr>\n",
       "    <tr>\n",
       "      <th>9368</th>\n",
       "      <td>Apple and TikTok remove app used to arrange pa...</td>\n",
       "      <td>2</td>\n",
       "      <td>28</td>\n",
       "      <td>2020-12-30 19:32:36+00:00</td>\n",
       "    </tr>\n",
       "    <tr>\n",
       "      <th>9369</th>\n",
       "      <td>Most prolific serial killer in US history dies...</td>\n",
       "      <td>2</td>\n",
       "      <td>4</td>\n",
       "      <td>2020-12-31 01:35:25+00:00</td>\n",
       "    </tr>\n",
       "    <tr>\n",
       "      <th>9370</th>\n",
       "      <td>145 employees infected in COVID outbreak at Ya...</td>\n",
       "      <td>2</td>\n",
       "      <td>550</td>\n",
       "      <td>2020-12-31 02:31:51+00:00</td>\n",
       "    </tr>\n",
       "  </tbody>\n",
       "</table>\n",
       "<p>9371 rows × 4 columns</p>\n",
       "</div>"
      ],
      "text/plain": [
       "                                                  title  score  num_comments  \\\n",
       "0     U-Haul to Implement Nicotine-Free Hiring Polic...    134           518   \n",
       "1       FDA issues ban on some flavored vaping products     28            43   \n",
       "2     Family kicked off plane because daughter threw...     30           114   \n",
       "3     Kansas police apologize for faked story of exp...    745           298   \n",
       "4     Lebanese lawyers want Ghosn prosecuted over Is...      2             2   \n",
       "...                                                 ...    ...           ...   \n",
       "9366  Louisville police move to fire officers in Bre...      2             1   \n",
       "9367  A Black jazz musician's son was falsely accuse...      2            39   \n",
       "9368  Apple and TikTok remove app used to arrange pa...      2            28   \n",
       "9369  Most prolific serial killer in US history dies...      2             4   \n",
       "9370  145 employees infected in COVID outbreak at Ya...      2           550   \n",
       "\n",
       "                           date  \n",
       "0     2020-01-02 18:01:47+00:00  \n",
       "1     2020-01-02 18:29:42+00:00  \n",
       "2     2020-01-02 18:54:03+00:00  \n",
       "3     2020-01-02 19:02:08+00:00  \n",
       "4     2020-01-02 19:03:04+00:00  \n",
       "...                         ...  \n",
       "9366  2020-12-30 05:44:28+00:00  \n",
       "9367  2020-12-30 17:44:14+00:00  \n",
       "9368  2020-12-30 19:32:36+00:00  \n",
       "9369  2020-12-31 01:35:25+00:00  \n",
       "9370  2020-12-31 02:31:51+00:00  \n",
       "\n",
       "[9371 rows x 4 columns]"
      ]
     },
     "execution_count": 24,
     "metadata": {},
     "output_type": "execute_result"
    }
   ],
   "source": [
    "titles = pd.read_csv('titles.csv').drop(['Unnamed: 0'], axis=1) # read from csv and drop extra index column\n",
    "titles"
   ]
  },
  {
   "cell_type": "code",
   "execution_count": 25,
   "id": "9838cec0",
   "metadata": {},
   "outputs": [],
   "source": [
    "def cleaner(document):\n",
    "    document = document.lower() #To lower case\n",
    "    document = re.sub(r'<[^>]*>', ' ', document) #Remove HTML\n",
    "    document = re.sub(r'[^\\w\\s]','', document) #Remove non-alphanumeric characters\n",
    "    document =  re.sub(r'[^a-zA-Z ]''+','',document) #remove numbers\n",
    "    return document\n",
    "\n",
    "titles['title'] = titles['title'].apply(cleaner)"
   ]
  },
  {
   "cell_type": "code",
   "execution_count": 26,
   "id": "d01f1cdf",
   "metadata": {},
   "outputs": [
    {
     "data": {
      "text/html": [
       "<div>\n",
       "<style scoped>\n",
       "    .dataframe tbody tr th:only-of-type {\n",
       "        vertical-align: middle;\n",
       "    }\n",
       "\n",
       "    .dataframe tbody tr th {\n",
       "        vertical-align: top;\n",
       "    }\n",
       "\n",
       "    .dataframe thead th {\n",
       "        text-align: right;\n",
       "    }\n",
       "</style>\n",
       "<table border=\"1\" class=\"dataframe\">\n",
       "  <thead>\n",
       "    <tr style=\"text-align: right;\">\n",
       "      <th></th>\n",
       "      <th>title</th>\n",
       "      <th>score</th>\n",
       "      <th>num_comments</th>\n",
       "      <th>date</th>\n",
       "      <th>split t</th>\n",
       "    </tr>\n",
       "  </thead>\n",
       "  <tbody>\n",
       "    <tr>\n",
       "      <th>0</th>\n",
       "      <td>uhaul to implement nicotinefree hiring policy ...</td>\n",
       "      <td>134</td>\n",
       "      <td>518</td>\n",
       "      <td>2020-01-02 18:01:47+00:00</td>\n",
       "      <td>[uhaul, to, implement, nicotinefree, hiring, p...</td>\n",
       "    </tr>\n",
       "    <tr>\n",
       "      <th>1</th>\n",
       "      <td>fda issues ban on some flavored vaping products</td>\n",
       "      <td>28</td>\n",
       "      <td>43</td>\n",
       "      <td>2020-01-02 18:29:42+00:00</td>\n",
       "      <td>[fda, issues, ban, on, some, flavored, vaping,...</td>\n",
       "    </tr>\n",
       "    <tr>\n",
       "      <th>2</th>\n",
       "      <td>family kicked off plane because daughter threw...</td>\n",
       "      <td>30</td>\n",
       "      <td>114</td>\n",
       "      <td>2020-01-02 18:54:03+00:00</td>\n",
       "      <td>[family, kicked, off, plane, because, daughter...</td>\n",
       "    </tr>\n",
       "    <tr>\n",
       "      <th>3</th>\n",
       "      <td>kansas police apologize for faked story of exp...</td>\n",
       "      <td>745</td>\n",
       "      <td>298</td>\n",
       "      <td>2020-01-02 19:02:08+00:00</td>\n",
       "      <td>[kansas, police, apologize, for, faked, story,...</td>\n",
       "    </tr>\n",
       "    <tr>\n",
       "      <th>4</th>\n",
       "      <td>lebanese lawyers want ghosn prosecuted over is...</td>\n",
       "      <td>2</td>\n",
       "      <td>2</td>\n",
       "      <td>2020-01-02 19:03:04+00:00</td>\n",
       "      <td>[lebanese, lawyers, want, ghosn, prosecuted, o...</td>\n",
       "    </tr>\n",
       "    <tr>\n",
       "      <th>...</th>\n",
       "      <td>...</td>\n",
       "      <td>...</td>\n",
       "      <td>...</td>\n",
       "      <td>...</td>\n",
       "      <td>...</td>\n",
       "    </tr>\n",
       "    <tr>\n",
       "      <th>9366</th>\n",
       "      <td>louisville police move to fire officers in bre...</td>\n",
       "      <td>2</td>\n",
       "      <td>1</td>\n",
       "      <td>2020-12-30 05:44:28+00:00</td>\n",
       "      <td>[louisville, police, move, to, fire, officers,...</td>\n",
       "    </tr>\n",
       "    <tr>\n",
       "      <th>9367</th>\n",
       "      <td>a black jazz musicians son was falsely accused...</td>\n",
       "      <td>2</td>\n",
       "      <td>39</td>\n",
       "      <td>2020-12-30 17:44:14+00:00</td>\n",
       "      <td>[a, black, jazz, musicians, son, was, falsely,...</td>\n",
       "    </tr>\n",
       "    <tr>\n",
       "      <th>9368</th>\n",
       "      <td>apple and tiktok remove app used to arrange pa...</td>\n",
       "      <td>2</td>\n",
       "      <td>28</td>\n",
       "      <td>2020-12-30 19:32:36+00:00</td>\n",
       "      <td>[apple, and, tiktok, remove, app, used, to, ar...</td>\n",
       "    </tr>\n",
       "    <tr>\n",
       "      <th>9369</th>\n",
       "      <td>most prolific serial killer in us history dies...</td>\n",
       "      <td>2</td>\n",
       "      <td>4</td>\n",
       "      <td>2020-12-31 01:35:25+00:00</td>\n",
       "      <td>[most, prolific, serial, killer, in, us, histo...</td>\n",
       "    </tr>\n",
       "    <tr>\n",
       "      <th>9370</th>\n",
       "      <td>employees infected in covid outbreak at yakim...</td>\n",
       "      <td>2</td>\n",
       "      <td>550</td>\n",
       "      <td>2020-12-31 02:31:51+00:00</td>\n",
       "      <td>[employees, infected, in, covid, outbreak, at,...</td>\n",
       "    </tr>\n",
       "  </tbody>\n",
       "</table>\n",
       "<p>9371 rows × 5 columns</p>\n",
       "</div>"
      ],
      "text/plain": [
       "                                                  title  score  num_comments  \\\n",
       "0     uhaul to implement nicotinefree hiring policy ...    134           518   \n",
       "1       fda issues ban on some flavored vaping products     28            43   \n",
       "2     family kicked off plane because daughter threw...     30           114   \n",
       "3     kansas police apologize for faked story of exp...    745           298   \n",
       "4     lebanese lawyers want ghosn prosecuted over is...      2             2   \n",
       "...                                                 ...    ...           ...   \n",
       "9366  louisville police move to fire officers in bre...      2             1   \n",
       "9367  a black jazz musicians son was falsely accused...      2            39   \n",
       "9368  apple and tiktok remove app used to arrange pa...      2            28   \n",
       "9369  most prolific serial killer in us history dies...      2             4   \n",
       "9370   employees infected in covid outbreak at yakim...      2           550   \n",
       "\n",
       "                           date  \\\n",
       "0     2020-01-02 18:01:47+00:00   \n",
       "1     2020-01-02 18:29:42+00:00   \n",
       "2     2020-01-02 18:54:03+00:00   \n",
       "3     2020-01-02 19:02:08+00:00   \n",
       "4     2020-01-02 19:03:04+00:00   \n",
       "...                         ...   \n",
       "9366  2020-12-30 05:44:28+00:00   \n",
       "9367  2020-12-30 17:44:14+00:00   \n",
       "9368  2020-12-30 19:32:36+00:00   \n",
       "9369  2020-12-31 01:35:25+00:00   \n",
       "9370  2020-12-31 02:31:51+00:00   \n",
       "\n",
       "                                                split t  \n",
       "0     [uhaul, to, implement, nicotinefree, hiring, p...  \n",
       "1     [fda, issues, ban, on, some, flavored, vaping,...  \n",
       "2     [family, kicked, off, plane, because, daughter...  \n",
       "3     [kansas, police, apologize, for, faked, story,...  \n",
       "4     [lebanese, lawyers, want, ghosn, prosecuted, o...  \n",
       "...                                                 ...  \n",
       "9366  [louisville, police, move, to, fire, officers,...  \n",
       "9367  [a, black, jazz, musicians, son, was, falsely,...  \n",
       "9368  [apple, and, tiktok, remove, app, used, to, ar...  \n",
       "9369  [most, prolific, serial, killer, in, us, histo...  \n",
       "9370  [employees, infected, in, covid, outbreak, at,...  \n",
       "\n",
       "[9371 rows x 5 columns]"
      ]
     },
     "execution_count": 26,
     "metadata": {},
     "output_type": "execute_result"
    }
   ],
   "source": [
    "titles['split t'] = titles['title'].str.split()\n",
    "titles"
   ]
  },
  {
   "cell_type": "code",
   "execution_count": 27,
   "id": "324712e8",
   "metadata": {},
   "outputs": [
    {
     "data": {
      "text/plain": [
       "0       [uhaul, to, implement, nicotinefree, hiring, p...\n",
       "1       [fda, issues, ban, on, some, flavored, vaping,...\n",
       "2       [family, kicked, off, plane, because, daughter...\n",
       "3       [kansas, police, apologize, for, faked, story,...\n",
       "4       [lebanese, lawyers, want, ghosn, prosecuted, o...\n",
       "                              ...                        \n",
       "9366    [louisville, police, move, to, fire, officers,...\n",
       "9367    [a, black, jazz, musicians, son, was, falsely,...\n",
       "9368    [apple, and, tiktok, remove, app, used, to, ar...\n",
       "9369    [most, prolific, serial, killer, in, us, histo...\n",
       "9370    [employees, infected, in, covid, outbreak, at,...\n",
       "Name: tokenized_title, Length: 9371, dtype: object"
      ]
     },
     "execution_count": 27,
     "metadata": {},
     "output_type": "execute_result"
    }
   ],
   "source": [
    "titles['tokenized_title'] = titles.apply(lambda row: nltk.word_tokenize(row['title']), axis=1)\n",
    "i = titles['tokenized_title']\n",
    "i"
   ]
  },
  {
   "cell_type": "code",
   "execution_count": 28,
   "id": "841ed08c",
   "metadata": {},
   "outputs": [
    {
     "data": {
      "text/plain": [
       "'we are not safe indias muslims tell of wave of police brutality'"
      ]
     },
     "execution_count": 28,
     "metadata": {},
     "output_type": "execute_result"
    }
   ],
   "source": [
    "f = titles['title'][87]\n",
    "f"
   ]
  },
  {
   "cell_type": "code",
   "execution_count": 29,
   "id": "b6dd3473",
   "metadata": {},
   "outputs": [
    {
     "data": {
      "text/plain": [
       "['we',\n",
       " 'are',\n",
       " 'not',\n",
       " 'safe',\n",
       " 'indias',\n",
       " 'muslims',\n",
       " 'tell',\n",
       " 'of',\n",
       " 'wave',\n",
       " 'of',\n",
       " 'police',\n",
       " 'brutality']"
      ]
     },
     "execution_count": 29,
     "metadata": {},
     "output_type": "execute_result"
    }
   ],
   "source": [
    "g = nltk.tokenize.word_tokenize(f)\n",
    "g"
   ]
  },
  {
   "cell_type": "code",
   "execution_count": 30,
   "id": "8ab43009",
   "metadata": {},
   "outputs": [
    {
     "data": {
      "text/plain": [
       "['safe', 'indias', 'muslims', 'tell', 'wave', 'police', 'brutality']"
      ]
     },
     "execution_count": 30,
     "metadata": {},
     "output_type": "execute_result"
    }
   ],
   "source": [
    "stop = stopwords.words('english')\n",
    "h = [i for i in g if i not in stop]\n",
    "h"
   ]
  },
  {
   "cell_type": "code",
   "execution_count": 31,
   "id": "9d883ecb",
   "metadata": {},
   "outputs": [
    {
     "data": {
      "text/plain": [
       "['safe', 'india', 'muslim', 'tell', 'wave', 'police', 'brutality']"
      ]
     },
     "execution_count": 31,
     "metadata": {},
     "output_type": "execute_result"
    }
   ],
   "source": [
    "k = [nltk.WordNetLemmatizer().lemmatize(i) for i in h]\n",
    "k"
   ]
  },
  {
   "cell_type": "code",
   "execution_count": 49,
   "id": "76fe1e73",
   "metadata": {},
   "outputs": [
    {
     "data": {
      "text/plain": [
       "'beer and bagels please new york rats evolve to mirror human habits'"
      ]
     },
     "execution_count": 49,
     "metadata": {},
     "output_type": "execute_result"
    }
   ],
   "source": [
    "wnl = nltk.WordNetLemmatizer()\n",
    "titles['lemma_titles'] = titles['title'].apply(lambda word: wnl.lemmatize(word, pos='v'))\n",
    "titles['lemma_titles'][546]"
   ]
  },
  {
   "cell_type": "code",
   "execution_count": 50,
   "id": "88b62034",
   "metadata": {},
   "outputs": [
    {
     "data": {
      "text/plain": [
       "'beer and bagels please new york rats evolve to mirror human habits'"
      ]
     },
     "execution_count": 50,
     "metadata": {},
     "output_type": "execute_result"
    }
   ],
   "source": [
    "titles['title'][546]"
   ]
  },
  {
   "cell_type": "code",
   "execution_count": 55,
   "id": "220454a0",
   "metadata": {},
   "outputs": [
    {
     "data": {
      "text/plain": [
       "'beer bagels please new york rats evolve mirror human habits'"
      ]
     },
     "execution_count": 55,
     "metadata": {},
     "output_type": "execute_result"
    }
   ],
   "source": [
    "stop = stopwords.words('english')\n",
    "titles['title_stop'] = titles['lemma_titles'].apply(lambda x: ' '.join([word for word in x.split() if word not in (stop)]))\n",
    "titles['title_stop'][546]"
   ]
  },
  {
   "cell_type": "code",
   "execution_count": 56,
   "id": "97cc3023",
   "metadata": {},
   "outputs": [
    {
     "data": {
      "text/html": [
       "<div>\n",
       "<style scoped>\n",
       "    .dataframe tbody tr th:only-of-type {\n",
       "        vertical-align: middle;\n",
       "    }\n",
       "\n",
       "    .dataframe tbody tr th {\n",
       "        vertical-align: top;\n",
       "    }\n",
       "\n",
       "    .dataframe thead th {\n",
       "        text-align: right;\n",
       "    }\n",
       "</style>\n",
       "<table border=\"1\" class=\"dataframe\">\n",
       "  <thead>\n",
       "    <tr style=\"text-align: right;\">\n",
       "      <th></th>\n",
       "      <th>title</th>\n",
       "      <th>score</th>\n",
       "      <th>num_comments</th>\n",
       "      <th>date</th>\n",
       "      <th>split t</th>\n",
       "      <th>tokenized_title</th>\n",
       "      <th>lemma_titles</th>\n",
       "      <th>title_stop</th>\n",
       "    </tr>\n",
       "  </thead>\n",
       "  <tbody>\n",
       "    <tr>\n",
       "      <th>0</th>\n",
       "      <td>uhaul to implement nicotinefree hiring policy ...</td>\n",
       "      <td>134</td>\n",
       "      <td>518</td>\n",
       "      <td>2020-01-02 18:01:47+00:00</td>\n",
       "      <td>[uhaul, to, implement, nicotinefree, hiring, p...</td>\n",
       "      <td>[uhaul, to, implement, nicotinefree, hiring, p...</td>\n",
       "      <td>uhaul to implement nicotinefree hiring policy ...</td>\n",
       "      <td>uhaul implement nicotinefree hiring policy states</td>\n",
       "    </tr>\n",
       "    <tr>\n",
       "      <th>1</th>\n",
       "      <td>fda issues ban on some flavored vaping products</td>\n",
       "      <td>28</td>\n",
       "      <td>43</td>\n",
       "      <td>2020-01-02 18:29:42+00:00</td>\n",
       "      <td>[fda, issues, ban, on, some, flavored, vaping,...</td>\n",
       "      <td>[fda, issues, ban, on, some, flavored, vaping,...</td>\n",
       "      <td>fda issues ban on some flavored vaping products</td>\n",
       "      <td>fda issues ban flavored vaping products</td>\n",
       "    </tr>\n",
       "    <tr>\n",
       "      <th>2</th>\n",
       "      <td>family kicked off plane because daughter threw...</td>\n",
       "      <td>30</td>\n",
       "      <td>114</td>\n",
       "      <td>2020-01-02 18:54:03+00:00</td>\n",
       "      <td>[family, kicked, off, plane, because, daughter...</td>\n",
       "      <td>[family, kicked, off, plane, because, daughter...</td>\n",
       "      <td>family kicked off plane because daughter threw...</td>\n",
       "      <td>family kicked plane daughter threw take forced...</td>\n",
       "    </tr>\n",
       "    <tr>\n",
       "      <th>3</th>\n",
       "      <td>kansas police apologize for faked story of exp...</td>\n",
       "      <td>745</td>\n",
       "      <td>298</td>\n",
       "      <td>2020-01-02 19:02:08+00:00</td>\n",
       "      <td>[kansas, police, apologize, for, faked, story,...</td>\n",
       "      <td>[kansas, police, apologize, for, faked, story,...</td>\n",
       "      <td>kansas police apologize for faked story of exp...</td>\n",
       "      <td>kansas police apologize faked story expletive cup</td>\n",
       "    </tr>\n",
       "    <tr>\n",
       "      <th>4</th>\n",
       "      <td>lebanese lawyers want ghosn prosecuted over is...</td>\n",
       "      <td>2</td>\n",
       "      <td>2</td>\n",
       "      <td>2020-01-02 19:03:04+00:00</td>\n",
       "      <td>[lebanese, lawyers, want, ghosn, prosecuted, o...</td>\n",
       "      <td>[lebanese, lawyers, want, ghosn, prosecuted, o...</td>\n",
       "      <td>lebanese lawyers want ghosn prosecuted over is...</td>\n",
       "      <td>lebanese lawyers want ghosn prosecuted israel ...</td>\n",
       "    </tr>\n",
       "    <tr>\n",
       "      <th>...</th>\n",
       "      <td>...</td>\n",
       "      <td>...</td>\n",
       "      <td>...</td>\n",
       "      <td>...</td>\n",
       "      <td>...</td>\n",
       "      <td>...</td>\n",
       "      <td>...</td>\n",
       "      <td>...</td>\n",
       "    </tr>\n",
       "    <tr>\n",
       "      <th>9366</th>\n",
       "      <td>louisville police move to fire officers in bre...</td>\n",
       "      <td>2</td>\n",
       "      <td>1</td>\n",
       "      <td>2020-12-30 05:44:28+00:00</td>\n",
       "      <td>[louisville, police, move, to, fire, officers,...</td>\n",
       "      <td>[louisville, police, move, to, fire, officers,...</td>\n",
       "      <td>louisville police move to fire officers in bre...</td>\n",
       "      <td>louisville police move fire officers breonna t...</td>\n",
       "    </tr>\n",
       "    <tr>\n",
       "      <th>9367</th>\n",
       "      <td>a black jazz musicians son was falsely accused...</td>\n",
       "      <td>2</td>\n",
       "      <td>39</td>\n",
       "      <td>2020-12-30 17:44:14+00:00</td>\n",
       "      <td>[a, black, jazz, musicians, son, was, falsely,...</td>\n",
       "      <td>[a, black, jazz, musicians, son, was, falsely,...</td>\n",
       "      <td>a black jazz musicians son was falsely accused...</td>\n",
       "      <td>black jazz musicians son falsely accused steal...</td>\n",
       "    </tr>\n",
       "    <tr>\n",
       "      <th>9368</th>\n",
       "      <td>apple and tiktok remove app used to arrange pa...</td>\n",
       "      <td>2</td>\n",
       "      <td>28</td>\n",
       "      <td>2020-12-30 19:32:36+00:00</td>\n",
       "      <td>[apple, and, tiktok, remove, app, used, to, ar...</td>\n",
       "      <td>[apple, and, tiktok, remove, app, used, to, ar...</td>\n",
       "      <td>apple and tiktok remove app used to arrange pa...</td>\n",
       "      <td>apple tiktok remove app used arrange parties c...</td>\n",
       "    </tr>\n",
       "    <tr>\n",
       "      <th>9369</th>\n",
       "      <td>most prolific serial killer in us history dies...</td>\n",
       "      <td>2</td>\n",
       "      <td>4</td>\n",
       "      <td>2020-12-31 01:35:25+00:00</td>\n",
       "      <td>[most, prolific, serial, killer, in, us, histo...</td>\n",
       "      <td>[most, prolific, serial, killer, in, us, histo...</td>\n",
       "      <td>most prolific serial killer in us history dies...</td>\n",
       "      <td>prolific serial killer us history dies california</td>\n",
       "    </tr>\n",
       "    <tr>\n",
       "      <th>9370</th>\n",
       "      <td>employees infected in covid outbreak at yakim...</td>\n",
       "      <td>2</td>\n",
       "      <td>550</td>\n",
       "      <td>2020-12-31 02:31:51+00:00</td>\n",
       "      <td>[employees, infected, in, covid, outbreak, at,...</td>\n",
       "      <td>[employees, infected, in, covid, outbreak, at,...</td>\n",
       "      <td>employees infected in covid outbreak at yakim...</td>\n",
       "      <td>employees infected covid outbreak yakima co co...</td>\n",
       "    </tr>\n",
       "  </tbody>\n",
       "</table>\n",
       "<p>9371 rows × 8 columns</p>\n",
       "</div>"
      ],
      "text/plain": [
       "                                                  title  score  num_comments  \\\n",
       "0     uhaul to implement nicotinefree hiring policy ...    134           518   \n",
       "1       fda issues ban on some flavored vaping products     28            43   \n",
       "2     family kicked off plane because daughter threw...     30           114   \n",
       "3     kansas police apologize for faked story of exp...    745           298   \n",
       "4     lebanese lawyers want ghosn prosecuted over is...      2             2   \n",
       "...                                                 ...    ...           ...   \n",
       "9366  louisville police move to fire officers in bre...      2             1   \n",
       "9367  a black jazz musicians son was falsely accused...      2            39   \n",
       "9368  apple and tiktok remove app used to arrange pa...      2            28   \n",
       "9369  most prolific serial killer in us history dies...      2             4   \n",
       "9370   employees infected in covid outbreak at yakim...      2           550   \n",
       "\n",
       "                           date  \\\n",
       "0     2020-01-02 18:01:47+00:00   \n",
       "1     2020-01-02 18:29:42+00:00   \n",
       "2     2020-01-02 18:54:03+00:00   \n",
       "3     2020-01-02 19:02:08+00:00   \n",
       "4     2020-01-02 19:03:04+00:00   \n",
       "...                         ...   \n",
       "9366  2020-12-30 05:44:28+00:00   \n",
       "9367  2020-12-30 17:44:14+00:00   \n",
       "9368  2020-12-30 19:32:36+00:00   \n",
       "9369  2020-12-31 01:35:25+00:00   \n",
       "9370  2020-12-31 02:31:51+00:00   \n",
       "\n",
       "                                                split t  \\\n",
       "0     [uhaul, to, implement, nicotinefree, hiring, p...   \n",
       "1     [fda, issues, ban, on, some, flavored, vaping,...   \n",
       "2     [family, kicked, off, plane, because, daughter...   \n",
       "3     [kansas, police, apologize, for, faked, story,...   \n",
       "4     [lebanese, lawyers, want, ghosn, prosecuted, o...   \n",
       "...                                                 ...   \n",
       "9366  [louisville, police, move, to, fire, officers,...   \n",
       "9367  [a, black, jazz, musicians, son, was, falsely,...   \n",
       "9368  [apple, and, tiktok, remove, app, used, to, ar...   \n",
       "9369  [most, prolific, serial, killer, in, us, histo...   \n",
       "9370  [employees, infected, in, covid, outbreak, at,...   \n",
       "\n",
       "                                        tokenized_title  \\\n",
       "0     [uhaul, to, implement, nicotinefree, hiring, p...   \n",
       "1     [fda, issues, ban, on, some, flavored, vaping,...   \n",
       "2     [family, kicked, off, plane, because, daughter...   \n",
       "3     [kansas, police, apologize, for, faked, story,...   \n",
       "4     [lebanese, lawyers, want, ghosn, prosecuted, o...   \n",
       "...                                                 ...   \n",
       "9366  [louisville, police, move, to, fire, officers,...   \n",
       "9367  [a, black, jazz, musicians, son, was, falsely,...   \n",
       "9368  [apple, and, tiktok, remove, app, used, to, ar...   \n",
       "9369  [most, prolific, serial, killer, in, us, histo...   \n",
       "9370  [employees, infected, in, covid, outbreak, at,...   \n",
       "\n",
       "                                           lemma_titles  \\\n",
       "0     uhaul to implement nicotinefree hiring policy ...   \n",
       "1       fda issues ban on some flavored vaping products   \n",
       "2     family kicked off plane because daughter threw...   \n",
       "3     kansas police apologize for faked story of exp...   \n",
       "4     lebanese lawyers want ghosn prosecuted over is...   \n",
       "...                                                 ...   \n",
       "9366  louisville police move to fire officers in bre...   \n",
       "9367  a black jazz musicians son was falsely accused...   \n",
       "9368  apple and tiktok remove app used to arrange pa...   \n",
       "9369  most prolific serial killer in us history dies...   \n",
       "9370   employees infected in covid outbreak at yakim...   \n",
       "\n",
       "                                             title_stop  \n",
       "0     uhaul implement nicotinefree hiring policy states  \n",
       "1               fda issues ban flavored vaping products  \n",
       "2     family kicked plane daughter threw take forced...  \n",
       "3     kansas police apologize faked story expletive cup  \n",
       "4     lebanese lawyers want ghosn prosecuted israel ...  \n",
       "...                                                 ...  \n",
       "9366  louisville police move fire officers breonna t...  \n",
       "9367  black jazz musicians son falsely accused steal...  \n",
       "9368  apple tiktok remove app used arrange parties c...  \n",
       "9369  prolific serial killer us history dies california  \n",
       "9370  employees infected covid outbreak yakima co co...  \n",
       "\n",
       "[9371 rows x 8 columns]"
      ]
     },
     "execution_count": 56,
     "metadata": {},
     "output_type": "execute_result"
    }
   ],
   "source": [
    "titles"
   ]
  }
 ],
 "metadata": {
  "kernelspec": {
   "display_name": "Python 3 (ipykernel)",
   "language": "python",
   "name": "python3"
  },
  "language_info": {
   "codemirror_mode": {
    "name": "ipython",
    "version": 3
   },
   "file_extension": ".py",
   "mimetype": "text/x-python",
   "name": "python",
   "nbconvert_exporter": "python",
   "pygments_lexer": "ipython3",
   "version": "3.9.7"
  }
 },
 "nbformat": 4,
 "nbformat_minor": 5
}
