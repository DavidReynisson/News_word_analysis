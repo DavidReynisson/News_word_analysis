{
 "cells": [
  {
   "cell_type": "code",
   "execution_count": 12,
   "id": "daa5aa37",
   "metadata": {},
   "outputs": [],
   "source": [
    "import pandas as pd\n",
    "pd.set_option('max_colwidth', 500)\n",
    "pd.set_option('max_columns', 50)\n",
    "\n",
    "from psaw import PushshiftAPI\n",
    "\n",
    "# Initialize PushShift\n",
    "api = PushshiftAPI()"
   ]
  },
  {
   "cell_type": "code",
   "execution_count": 31,
   "id": "9c2121fb",
   "metadata": {},
   "outputs": [],
   "source": [
    "import datetime as dt\n",
    "\n",
    "start_epoch=int(dt.datetime(2020, 1, 1).timestamp())\n",
    "end_epoch=int(dt.datetime(2021, 1, 1).timestamp())\n",
    "\n",
    "api_request_generator = api.search_submissions(subreddit='News', after = start_epoch, before=end_epoch)"
   ]
  },
  {
   "cell_type": "code",
   "execution_count": null,
   "id": "b8c862f4",
   "metadata": {},
   "outputs": [
    {
     "name": "stderr",
     "output_type": "stream",
     "text": [
      "C:\\Users\\reyni\\anaconda3\\lib\\site-packages\\psaw\\PushshiftAPI.py:252: UserWarning: Not all PushShift shards are active. Query results may be incomplete\n",
      "  warnings.warn(shards_down_message)\n"
     ]
    }
   ],
   "source": [
    "Newstime = pd.DataFrame([submission.d_ for submission in api_request_generator])\n",
    "Newstime"
   ]
  },
  {
   "cell_type": "code",
   "execution_count": null,
   "id": "d0dac60c",
   "metadata": {},
   "outputs": [],
   "source": [
    "Newstime[[ 'date', 'title', 'score', 'num_comments']]"
   ]
  }
 ],
 "metadata": {
  "kernelspec": {
   "display_name": "Python 3 (ipykernel)",
   "language": "python",
   "name": "python3"
  },
  "language_info": {
   "codemirror_mode": {
    "name": "ipython",
    "version": 3
   },
   "file_extension": ".py",
   "mimetype": "text/x-python",
   "name": "python",
   "nbconvert_exporter": "python",
   "pygments_lexer": "ipython3",
   "version": "3.9.7"
  }
 },
 "nbformat": 4,
 "nbformat_minor": 5
}
