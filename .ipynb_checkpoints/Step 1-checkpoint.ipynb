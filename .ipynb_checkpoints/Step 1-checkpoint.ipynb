{
 "cells": [
  {
   "cell_type": "markdown",
   "id": "d9d7acbe",
   "metadata": {},
   "source": [
    "# Step 1: Loading our data"
   ]
  },
  {
   "cell_type": "markdown",
   "id": "fc9a2f8b",
   "metadata": {},
   "source": [
    "We start by collecting our data from reddit. "
   ]
  },
  {
   "cell_type": "code",
   "execution_count": 2,
   "id": "7c390eb5",
   "metadata": {},
   "outputs": [
    {
     "name": "stderr",
     "output_type": "stream",
     "text": [
      "C:\\Users\\reyni\\anaconda3\\lib\\site-packages\\psaw\\PushshiftAPI.py:252: UserWarning: Not all PushShift shards are active. Query results may be incomplete\n",
      "  warnings.warn(shards_down_message)\n"
     ]
    }
   ],
   "source": [
    "from psaw import PushshiftAPI\n",
    "import praw\n",
    "import pandas as pd\n",
    "from datetime import datetime\n",
    "\n",
    "\n",
    "after = int(datetime(2020, 1, 1).timestamp()) -1 #First day of observation\n",
    "\n",
    "\n",
    "before = int(datetime(2022, 1, 1).timestamp()) #The Day after the last day of observations\n",
    "\n",
    "\n",
    "\n",
    "r = praw.Reddit(client_id='nX8uHUyAlTK3QPhYAC4gWA',\n",
    "                client_secret='Mu9tJNgclbh-Rm5zGBdVli8QKb7XJw',\n",
    "                user_agent='NewsDataScience')\n",
    "\n",
    "api=PushshiftAPI(r)\n",
    "\n",
    "# Search submissions\n",
    "subs = api.search_submissions(after=after, before=before, subreddit=['News'], score= '> 1')\n",
    "\n",
    "\n",
    "df = pd.DataFrame([sub.__dict__ for sub in subs]) #Load posts into DataFrame, note the warning that indicates that some data is missing"
   ]
  },
  {
   "cell_type": "code",
   "execution_count": 5,
   "id": "de8a52b9",
   "metadata": {},
   "outputs": [
    {
     "data": {
      "text/html": [
       "<div>\n",
       "<style scoped>\n",
       "    .dataframe tbody tr th:only-of-type {\n",
       "        vertical-align: middle;\n",
       "    }\n",
       "\n",
       "    .dataframe tbody tr th {\n",
       "        vertical-align: top;\n",
       "    }\n",
       "\n",
       "    .dataframe thead th {\n",
       "        text-align: right;\n",
       "    }\n",
       "</style>\n",
       "<table border=\"1\" class=\"dataframe\">\n",
       "  <thead>\n",
       "    <tr style=\"text-align: right;\">\n",
       "      <th></th>\n",
       "      <th>title</th>\n",
       "      <th>score</th>\n",
       "      <th>num_comments</th>\n",
       "      <th>removed_by_category</th>\n",
       "      <th>permalink</th>\n",
       "    </tr>\n",
       "  </thead>\n",
       "  <tbody>\n",
       "    <tr>\n",
       "      <th>2690</th>\n",
       "      <td>Durdle Door sea arch base jumpers &amp;#x27;idioti...</td>\n",
       "      <td>0</td>\n",
       "      <td>10</td>\n",
       "      <td>None</td>\n",
       "      <td>/r/news/comments/mkljg7/durdle_door_sea_arch_b...</td>\n",
       "    </tr>\n",
       "    <tr>\n",
       "      <th>11256</th>\n",
       "      <td>Kansas State investigates insensitive comments...</td>\n",
       "      <td>0</td>\n",
       "      <td>27</td>\n",
       "      <td>None</td>\n",
       "      <td>/r/news/comments/hgvk0y/kansas_state_investiga...</td>\n",
       "    </tr>\n",
       "    <tr>\n",
       "      <th>8627</th>\n",
       "      <td>Honduras caravan heads towards US to escape pa...</td>\n",
       "      <td>0</td>\n",
       "      <td>76</td>\n",
       "      <td>None</td>\n",
       "      <td>/r/news/comments/j3azi8/honduras_caravan_heads...</td>\n",
       "    </tr>\n",
       "    <tr>\n",
       "      <th>5002</th>\n",
       "      <td>Black Panther Director Ryan Coogler Is Creatin...</td>\n",
       "      <td>0</td>\n",
       "      <td>0</td>\n",
       "      <td>None</td>\n",
       "      <td>/r/news/comments/lb73fe/black_panther_director...</td>\n",
       "    </tr>\n",
       "    <tr>\n",
       "      <th>14773</th>\n",
       "      <td>Consulate General of China donates meals to Mo...</td>\n",
       "      <td>0</td>\n",
       "      <td>2</td>\n",
       "      <td>None</td>\n",
       "      <td>/r/news/comments/gfhcan/consulate_general_of_c...</td>\n",
       "    </tr>\n",
       "    <tr>\n",
       "      <th>...</th>\n",
       "      <td>...</td>\n",
       "      <td>...</td>\n",
       "      <td>...</td>\n",
       "      <td>...</td>\n",
       "      <td>...</td>\n",
       "    </tr>\n",
       "    <tr>\n",
       "      <th>13583</th>\n",
       "      <td>Online influencer Jake Paul charged after Scot...</td>\n",
       "      <td>152238</td>\n",
       "      <td>6648</td>\n",
       "      <td>None</td>\n",
       "      <td>/r/news/comments/gwk61n/online_influencer_jake...</td>\n",
       "    </tr>\n",
       "    <tr>\n",
       "      <th>6826</th>\n",
       "      <td>Twitter permanently suspends Trump’s account</td>\n",
       "      <td>171077</td>\n",
       "      <td>13728</td>\n",
       "      <td>None</td>\n",
       "      <td>/r/news/comments/ktenem/twitter_permanently_su...</td>\n",
       "    </tr>\n",
       "    <tr>\n",
       "      <th>12281</th>\n",
       "      <td>Supreme Court rules workers can't be fired for...</td>\n",
       "      <td>171111</td>\n",
       "      <td>10426</td>\n",
       "      <td>None</td>\n",
       "      <td>/r/news/comments/h9h11e/supreme_court_rules_wo...</td>\n",
       "    </tr>\n",
       "    <tr>\n",
       "      <th>6316</th>\n",
       "      <td>Donald Trump impeached for ‘inciting’ US Capit...</td>\n",
       "      <td>175650</td>\n",
       "      <td>13079</td>\n",
       "      <td>None</td>\n",
       "      <td>/r/news/comments/kwqbtc/donald_trump_impeached...</td>\n",
       "    </tr>\n",
       "    <tr>\n",
       "      <th>5737</th>\n",
       "      <td>Joe Biden officially sworn in as the 46th Pres...</td>\n",
       "      <td>176880</td>\n",
       "      <td>9045</td>\n",
       "      <td>None</td>\n",
       "      <td>/r/news/comments/l1d2ko/joe_biden_officially_s...</td>\n",
       "    </tr>\n",
       "  </tbody>\n",
       "</table>\n",
       "<p>6060 rows × 5 columns</p>\n",
       "</div>"
      ],
      "text/plain": [
       "                                                   title   score  \\\n",
       "2690   Durdle Door sea arch base jumpers &#x27;idioti...       0   \n",
       "11256  Kansas State investigates insensitive comments...       0   \n",
       "8627   Honduras caravan heads towards US to escape pa...       0   \n",
       "5002   Black Panther Director Ryan Coogler Is Creatin...       0   \n",
       "14773  Consulate General of China donates meals to Mo...       0   \n",
       "...                                                  ...     ...   \n",
       "13583  Online influencer Jake Paul charged after Scot...  152238   \n",
       "6826        Twitter permanently suspends Trump’s account  171077   \n",
       "12281  Supreme Court rules workers can't be fired for...  171111   \n",
       "6316   Donald Trump impeached for ‘inciting’ US Capit...  175650   \n",
       "5737   Joe Biden officially sworn in as the 46th Pres...  176880   \n",
       "\n",
       "       num_comments removed_by_category  \\\n",
       "2690             10                None   \n",
       "11256            27                None   \n",
       "8627             76                None   \n",
       "5002              0                None   \n",
       "14773             2                None   \n",
       "...             ...                 ...   \n",
       "13583          6648                None   \n",
       "6826          13728                None   \n",
       "12281         10426                None   \n",
       "6316          13079                None   \n",
       "5737           9045                None   \n",
       "\n",
       "                                               permalink  \n",
       "2690   /r/news/comments/mkljg7/durdle_door_sea_arch_b...  \n",
       "11256  /r/news/comments/hgvk0y/kansas_state_investiga...  \n",
       "8627   /r/news/comments/j3azi8/honduras_caravan_heads...  \n",
       "5002   /r/news/comments/lb73fe/black_panther_director...  \n",
       "14773  /r/news/comments/gfhcan/consulate_general_of_c...  \n",
       "...                                                  ...  \n",
       "13583  /r/news/comments/gwk61n/online_influencer_jake...  \n",
       "6826   /r/news/comments/ktenem/twitter_permanently_su...  \n",
       "12281  /r/news/comments/h9h11e/supreme_court_rules_wo...  \n",
       "6316   /r/news/comments/kwqbtc/donald_trump_impeached...  \n",
       "5737   /r/news/comments/l1d2ko/joe_biden_officially_s...  \n",
       "\n",
       "[6060 rows x 5 columns]"
      ]
     },
     "execution_count": 5,
     "metadata": {},
     "output_type": "execute_result"
    }
   ],
   "source": [
    "news_pre = df[['title', 'score', 'num_comments', 'removed_by_category', 'permalink']] # reduces DataFrame to only having parameters relevant for descriptive analysis\n",
    "\n",
    "# removed_by_category is for filtering away removed posts and 'permalink' is to double-check whether some posts are removed\n",
    "news_pre = news_pre.sort_values(by='score', ascending=True) #Sorts by score\n",
    "news_pre = news_pre.loc[news_pre['removed_by_category'].isna()] #Removes removed posts\n",
    "news_pre.drop(news_pre.index[news_pre['title'] == '[deleted by user]'], inplace = True) #Removes removed posts that are not removed by above line\n",
    "news_pre"
   ]
  },
  {
   "cell_type": "code",
   "execution_count": 8,
   "id": "1cec2484",
   "metadata": {},
   "outputs": [
    {
     "data": {
      "text/plain": [
       "'/r/news/comments/lb73fe/black_panther_director_ryan_coogler_is_creating_a/'"
      ]
     },
     "execution_count": 8,
     "metadata": {},
     "output_type": "execute_result"
    }
   ],
   "source": [
    "news = news_pre[['title', 'score', 'num_comments']] #Reduces DataFrame to relevant parameters for the following analysis\n",
    "news_pre['permalink'][5002]"
   ]
  },
  {
   "cell_type": "code",
   "execution_count": null,
   "id": "b03c6fd1",
   "metadata": {},
   "outputs": [],
   "source": [
    "news.to_csv('titles.csv') #Saves Dataframe for later use"
   ]
  }
 ],
 "metadata": {
  "kernelspec": {
   "display_name": "Python 3 (ipykernel)",
   "language": "python",
   "name": "python3"
  },
  "language_info": {
   "codemirror_mode": {
    "name": "ipython",
    "version": 3
   },
   "file_extension": ".py",
   "mimetype": "text/x-python",
   "name": "python",
   "nbconvert_exporter": "python",
   "pygments_lexer": "ipython3",
   "version": "3.9.7"
  }
 },
 "nbformat": 4,
 "nbformat_minor": 5
}
