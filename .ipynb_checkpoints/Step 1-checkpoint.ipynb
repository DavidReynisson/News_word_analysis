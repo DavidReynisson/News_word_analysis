{
 "cells": [
  {
   "cell_type": "code",
   "execution_count": 2,
   "id": "9fec19b9",
   "metadata": {},
   "outputs": [],
   "source": [
    "import pandas as pd\n",
    "pd.set_option('max_colwidth', 500)\n",
    "pd.set_option('max_column', 50)"
   ]
  },
  {
   "cell_type": "code",
   "execution_count": 3,
   "id": "7c390eb5",
   "metadata": {},
   "outputs": [],
   "source": [
    "from psaw import PushshiftAPI\n",
    "\n",
    "api = PushshiftAPI()"
   ]
  },
  {
   "cell_type": "code",
   "execution_count": 4,
   "id": "0a5de0ed",
   "metadata": {},
   "outputs": [],
   "source": [
    "import datetime as dt \n",
    "\n",
    "start = int(dt.datetime(2020, 1, 1).timestamp())\n",
    "end = int(dt.datetime(2021, 1, 1).timestamp())"
   ]
  },
  {
   "cell_type": "code",
   "execution_count": 5,
   "id": "38494da8",
   "metadata": {},
   "outputs": [],
   "source": [
    "api_request_generator = api.search_submissions(subreddit='News', after = start, before=end, score = \">1\")"
   ]
  },
  {
   "cell_type": "code",
   "execution_count": 6,
   "id": "f980c608",
   "metadata": {},
   "outputs": [
    {
     "name": "stderr",
     "output_type": "stream",
     "text": [
      "C:\\Users\\reyni\\anaconda3\\lib\\site-packages\\psaw\\PushshiftAPI.py:252: UserWarning: Not all PushShift shards are active. Query results may be incomplete\n",
      "  warnings.warn(shards_down_message)\n"
     ]
    }
   ],
   "source": [
    "x = pd.DataFrame([submission.d_ for submission in api_request_generator])"
   ]
  },
  {
   "cell_type": "code",
   "execution_count": 7,
   "id": "b9532861",
   "metadata": {},
   "outputs": [],
   "source": [
    "x['date'] = pd.to_datetime(x['created_utc'], utc=True, unit='s')"
   ]
  },
  {
   "cell_type": "code",
   "execution_count": 10,
   "id": "20122896",
   "metadata": {},
   "outputs": [
    {
     "data": {
      "text/html": [
       "<div>\n",
       "<style scoped>\n",
       "    .dataframe tbody tr th:only-of-type {\n",
       "        vertical-align: middle;\n",
       "    }\n",
       "\n",
       "    .dataframe tbody tr th {\n",
       "        vertical-align: top;\n",
       "    }\n",
       "\n",
       "    .dataframe thead th {\n",
       "        text-align: right;\n",
       "    }\n",
       "</style>\n",
       "<table border=\"1\" class=\"dataframe\">\n",
       "  <thead>\n",
       "    <tr style=\"text-align: right;\">\n",
       "      <th></th>\n",
       "      <th>title</th>\n",
       "      <th>score</th>\n",
       "      <th>num_comments</th>\n",
       "      <th>date</th>\n",
       "    </tr>\n",
       "  </thead>\n",
       "  <tbody>\n",
       "    <tr>\n",
       "      <th>0</th>\n",
       "      <td>U-Haul to Implement Nicotine-Free Hiring Policy in 21 States</td>\n",
       "      <td>134</td>\n",
       "      <td>518</td>\n",
       "      <td>2020-01-02 18:01:47+00:00</td>\n",
       "    </tr>\n",
       "    <tr>\n",
       "      <th>1</th>\n",
       "      <td>FDA issues ban on some flavored vaping products</td>\n",
       "      <td>28</td>\n",
       "      <td>43</td>\n",
       "      <td>2020-01-02 18:29:42+00:00</td>\n",
       "    </tr>\n",
       "    <tr>\n",
       "      <th>2</th>\n",
       "      <td>Family kicked off plane because daughter threw up before take off forced to cancel vacation</td>\n",
       "      <td>30</td>\n",
       "      <td>114</td>\n",
       "      <td>2020-01-02 18:54:03+00:00</td>\n",
       "    </tr>\n",
       "    <tr>\n",
       "      <th>3</th>\n",
       "      <td>Kansas police apologize for faked story of expletive on cup</td>\n",
       "      <td>745</td>\n",
       "      <td>298</td>\n",
       "      <td>2020-01-02 19:02:08+00:00</td>\n",
       "    </tr>\n",
       "    <tr>\n",
       "      <th>4</th>\n",
       "      <td>Lebanese lawyers want Ghosn prosecuted over Israel trip</td>\n",
       "      <td>2</td>\n",
       "      <td>2</td>\n",
       "      <td>2020-01-02 19:03:04+00:00</td>\n",
       "    </tr>\n",
       "    <tr>\n",
       "      <th>...</th>\n",
       "      <td>...</td>\n",
       "      <td>...</td>\n",
       "      <td>...</td>\n",
       "      <td>...</td>\n",
       "    </tr>\n",
       "    <tr>\n",
       "      <th>9366</th>\n",
       "      <td>Louisville police move to fire officers in Breonna Taylor case who got warrant, fired fatal shot</td>\n",
       "      <td>2</td>\n",
       "      <td>1</td>\n",
       "      <td>2020-12-30 05:44:28+00:00</td>\n",
       "    </tr>\n",
       "    <tr>\n",
       "      <th>9367</th>\n",
       "      <td>A Black jazz musician's son was falsely accused of stealing an iPhone, father says. The woman accusing him is speaking out to CNN</td>\n",
       "      <td>2</td>\n",
       "      <td>39</td>\n",
       "      <td>2020-12-30 17:44:14+00:00</td>\n",
       "    </tr>\n",
       "    <tr>\n",
       "      <th>9368</th>\n",
       "      <td>Apple and TikTok remove app used to arrange parties during Covid</td>\n",
       "      <td>2</td>\n",
       "      <td>28</td>\n",
       "      <td>2020-12-30 19:32:36+00:00</td>\n",
       "    </tr>\n",
       "    <tr>\n",
       "      <th>9369</th>\n",
       "      <td>Most prolific serial killer in US history dies in California</td>\n",
       "      <td>2</td>\n",
       "      <td>4</td>\n",
       "      <td>2020-12-31 01:35:25+00:00</td>\n",
       "    </tr>\n",
       "    <tr>\n",
       "      <th>9370</th>\n",
       "      <td>145 employees infected in COVID outbreak at Yakima Co. Costco store</td>\n",
       "      <td>2</td>\n",
       "      <td>550</td>\n",
       "      <td>2020-12-31 02:31:51+00:00</td>\n",
       "    </tr>\n",
       "  </tbody>\n",
       "</table>\n",
       "<p>9371 rows × 4 columns</p>\n",
       "</div>"
      ],
      "text/plain": [
       "                                                                                                                                  title  \\\n",
       "0                                                                          U-Haul to Implement Nicotine-Free Hiring Policy in 21 States   \n",
       "1                                                                                       FDA issues ban on some flavored vaping products   \n",
       "2                                           Family kicked off plane because daughter threw up before take off forced to cancel vacation   \n",
       "3                                                                           Kansas police apologize for faked story of expletive on cup   \n",
       "4                                                                               Lebanese lawyers want Ghosn prosecuted over Israel trip   \n",
       "...                                                                                                                                 ...   \n",
       "9366                                   Louisville police move to fire officers in Breonna Taylor case who got warrant, fired fatal shot   \n",
       "9367  A Black jazz musician's son was falsely accused of stealing an iPhone, father says. The woman accusing him is speaking out to CNN   \n",
       "9368                                                                   Apple and TikTok remove app used to arrange parties during Covid   \n",
       "9369                                                                       Most prolific serial killer in US history dies in California   \n",
       "9370                                                                145 employees infected in COVID outbreak at Yakima Co. Costco store   \n",
       "\n",
       "      score  num_comments                      date  \n",
       "0       134           518 2020-01-02 18:01:47+00:00  \n",
       "1        28            43 2020-01-02 18:29:42+00:00  \n",
       "2        30           114 2020-01-02 18:54:03+00:00  \n",
       "3       745           298 2020-01-02 19:02:08+00:00  \n",
       "4         2             2 2020-01-02 19:03:04+00:00  \n",
       "...     ...           ...                       ...  \n",
       "9366      2             1 2020-12-30 05:44:28+00:00  \n",
       "9367      2            39 2020-12-30 17:44:14+00:00  \n",
       "9368      2            28 2020-12-30 19:32:36+00:00  \n",
       "9369      2             4 2020-12-31 01:35:25+00:00  \n",
       "9370      2           550 2020-12-31 02:31:51+00:00  \n",
       "\n",
       "[9371 rows x 4 columns]"
      ]
     },
     "execution_count": 10,
     "metadata": {},
     "output_type": "execute_result"
    }
   ],
   "source": [
    "news = x[['title', 'score', 'num_comments', 'date']].sort_values(by=['date']).reset_index().drop(columns=['index'])\n",
    "news"
   ]
  },
  {
   "cell_type": "code",
   "execution_count": 12,
   "id": "8c2c35d5",
   "metadata": {},
   "outputs": [],
   "source": [
    "titles = news.to_csv('titles.csv')"
   ]
  }
 ],
 "metadata": {
  "kernelspec": {
   "display_name": "Python 3 (ipykernel)",
   "language": "python",
   "name": "python3"
  },
  "language_info": {
   "codemirror_mode": {
    "name": "ipython",
    "version": 3
   },
   "file_extension": ".py",
   "mimetype": "text/x-python",
   "name": "python",
   "nbconvert_exporter": "python",
   "pygments_lexer": "ipython3",
   "version": "3.9.7"
  }
 },
 "nbformat": 4,
 "nbformat_minor": 5
}
