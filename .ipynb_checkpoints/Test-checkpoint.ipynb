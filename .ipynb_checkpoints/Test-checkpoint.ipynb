{
 "cells": [
  {
   "cell_type": "code",
   "execution_count": 6,
   "id": "d935456c",
   "metadata": {
    "scrolled": true
   },
   "outputs": [
    {
     "ename": "NameError",
     "evalue": "name 'df' is not defined",
     "output_type": "error",
     "traceback": [
      "\u001b[1;31m---------------------------------------------------------------------------\u001b[0m",
      "\u001b[1;31mNameError\u001b[0m                                 Traceback (most recent call last)",
      "\u001b[1;32m~\\AppData\\Local\\Temp/ipykernel_1332/2495739555.py\u001b[0m in \u001b[0;36m<module>\u001b[1;34m\u001b[0m\n\u001b[0;32m     61\u001b[0m     \u001b[1;31m# append new_df to data\u001b[0m\u001b[1;33m\u001b[0m\u001b[1;33m\u001b[0m\u001b[0m\n\u001b[0;32m     62\u001b[0m     \u001b[0mdata\u001b[0m \u001b[1;33m=\u001b[0m \u001b[0mdata\u001b[0m\u001b[1;33m.\u001b[0m\u001b[0mappend\u001b[0m\u001b[1;33m(\u001b[0m\u001b[0mnew_df\u001b[0m\u001b[1;33m,\u001b[0m \u001b[0mignore_index\u001b[0m\u001b[1;33m=\u001b[0m\u001b[1;32mTrue\u001b[0m\u001b[1;33m)\u001b[0m\u001b[1;33m\u001b[0m\u001b[1;33m\u001b[0m\u001b[0m\n\u001b[1;32m---> 63\u001b[1;33m \u001b[0mdf\u001b[0m\u001b[1;33m\u001b[0m\u001b[1;33m\u001b[0m\u001b[0m\n\u001b[0m",
      "\u001b[1;31mNameError\u001b[0m: name 'df' is not defined"
     ]
    }
   ],
   "source": [
    "import requests\n",
    "import pandas as pd\n",
    "from datetime import datetime\n",
    "import time\n",
    "\n",
    "# we use this function to convert responses to dataframes\n",
    "def df_from_response(res):\n",
    "    # initialize temp dataframe for batch of data in response\n",
    "    df = pd.DataFrame()\n",
    "\n",
    "    # loop through each post pulled from res and append to df\n",
    "    for post in res.json()['data']['children']:\n",
    "        df = df.append({\n",
    "            'title': post['data']['title'],\n",
    "            'ups': post['data']['ups'],\n",
    "            'comments': post['data']['num_comments'],\n",
    "            'created_utc': datetime.fromtimestamp(post['data']['created_utc']).strftime('%Y-%m-%dT%H:%M:%SZ'),\n",
    "            'id': post['data']['id'],\n",
    "            'kind': post['kind']\n",
    "        }, ignore_index=True)\n",
    "\n",
    "    return df\n",
    "\n",
    "# authenticate API\n",
    "client_auth = requests.auth.HTTPBasicAuth('va9b5EWnSzXWDcVQ9mDzjA', 'W5okDWwysoLnfG6c826R63b-jPj4Ew')\n",
    "data = {\n",
    "    'grant_type': 'password',\n",
    "    'username': 'PapaTheButt',\n",
    "    'password': 'Pedersen83'\n",
    "}\n",
    "headers = {'User-Agent': 'myBot/0.0.1'}\n",
    "\n",
    "# send authentication request for OAuth token\n",
    "res = requests.post('https://www.reddit.com/api/v1/access_token',\n",
    "                    auth=client_auth, data=data, headers=headers)\n",
    "# extract token from response and format correctly\n",
    "TOKEN = f\"bearer {res.json()['access_token']}\"\n",
    "# update API headers with authorization (bearer token)\n",
    "headers = {**headers, **{'Authorization': TOKEN}}\n",
    "\n",
    "# initialize dataframe and parameters for pulling data in loop\n",
    "data = pd.DataFrame()\n",
    "params = {'limit': 100}\n",
    "\n",
    "# loop through 10 times (returning 1K posts)\n",
    "for i in range(3):\n",
    "    # make request\n",
    "    res = requests.get(\"https://oauth.reddit.com/r/news/new\",\n",
    "                       headers=headers,\n",
    "                       params=params)\n",
    "\n",
    "    # get dataframe from response\n",
    "    new_df = df_from_response(res)\n",
    "    # take the final row (oldest entry)\n",
    "    row = new_df.iloc[len(new_df)-1]\n",
    "    # create fullname\n",
    "    fullname = row['kind'] + '_' + row['id']\n",
    "    # add/update fullname in params\n",
    "    params['after'] = fullname\n",
    "    time.sleep(2)\n",
    "    # append new_df to data\n",
    "    data = data.append(new_df, ignore_index=True)"
   ]
  },
  {
   "cell_type": "raw",
   "id": "8f71b5d6",
   "metadata": {},
   "source": [
    "df_from_response(res)"
   ]
  }
 ],
 "metadata": {
  "kernelspec": {
   "display_name": "Python 3 (ipykernel)",
   "language": "python",
   "name": "python3"
  },
  "language_info": {
   "codemirror_mode": {
    "name": "ipython",
    "version": 3
   },
   "file_extension": ".py",
   "mimetype": "text/x-python",
   "name": "python",
   "nbconvert_exporter": "python",
   "pygments_lexer": "ipython3",
   "version": "3.9.7"
  }
 },
 "nbformat": 4,
 "nbformat_minor": 5
}
